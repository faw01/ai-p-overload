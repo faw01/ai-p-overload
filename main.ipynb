{
 "cells": [
  {
   "cell_type": "code",
   "execution_count": 1,
   "metadata": {},
   "outputs": [
    {
     "name": "stderr",
     "output_type": "stream",
     "text": [
      "c:\\Users\\fawwa\\AppData\\Local\\Programs\\Python\\Python38\\lib\\site-packages\\tqdm\\auto.py:22: TqdmWarning: IProgress not found. Please update jupyter and ipywidgets. See https://ipywidgets.readthedocs.io/en/stable/user_install.html\n",
      "  from .autonotebook import tqdm as notebook_tqdm\n"
     ]
    }
   ],
   "source": [
    "import os\n",
    "import pandas as pd\n",
    "import numpy as np\n",
    "import matplotlib.pyplot as plt\n",
    "import seaborn as sns\n",
    "import sklearn\n",
    "import statsmodels.api as sm\n",
    "import tensorflow as tf\n",
    "import torch"
   ]
  },
  {
   "cell_type": "code",
   "execution_count": 2,
   "metadata": {},
   "outputs": [],
   "source": [
    "gym = pd.read_csv('strong.csv')"
   ]
  },
  {
   "cell_type": "code",
   "execution_count": 4,
   "metadata": {},
   "outputs": [],
   "source": [
    "unique_exercises = gym['Exercise Name'].unique()"
   ]
  },
  {
   "cell_type": "code",
   "execution_count": 5,
   "metadata": {},
   "outputs": [
    {
     "name": "stdout",
     "output_type": "stream",
     "text": [
      "['Overhead Press (Dumbbell)' 'Lateral Raise (Dumbbell)' 'Cable Crossover'\n",
      " 'Leg Extension (Machine)' 'Lying Leg Curl (Machine)'\n",
      " 'Standing Calf Raise (Bodyweight)' 'Lat Pulldown (Cable)'\n",
      " 'Bicep Curl (Dumbbell)' 'Neck Warmup' 'Neck Curl'\n",
      " 'Incline Bench Press (Dumbbell)' 'Bent Over Row (Dumbbell)'\n",
      " 'Triceps Pushdown (Cable - Straight Bar)' 'Front Raise (Dumbbell)'\n",
      " 'Seated Palms Up Wrist Curl (Dumbbell)' 'Standing Calf Raise (Dumbbell)'\n",
      " 'Seated Wide-Grip Row (Cable)' '1 Arm Heavy Crossover'\n",
      " 'Lateral Raise (Cable)' 'Upright Row (Cable)' 'Triceps Extension (Cable)'\n",
      " '1 Arm Hi-Cable Row' 'Cable Flyes (Double Arm)'\n",
      " 'Cable Flyes (Single Arm)' 'Triceps Extension (Dumbbell)'\n",
      " 'Chest Press (Machine)' 'Seated Leg Curl (Machine)']\n"
     ]
    }
   ],
   "source": [
    "print(unique_exercises)"
   ]
  },
  {
   "cell_type": "code",
   "execution_count": 6,
   "metadata": {},
   "outputs": [
    {
     "name": "stdout",
     "output_type": "stream",
     "text": [
      "27\n"
     ]
    }
   ],
   "source": [
    "print(len(unique_exercises))"
   ]
  },
  {
   "cell_type": "code",
   "execution_count": 7,
   "metadata": {},
   "outputs": [],
   "source": [
    "neck_curls = gym[gym['Exercise Name'] == 'Neck Curl']"
   ]
  },
  {
   "cell_type": "code",
   "execution_count": 8,
   "metadata": {},
   "outputs": [
    {
     "name": "stdout",
     "output_type": "stream",
     "text": [
      "                 Date Workout Name Duration Exercise Name  Set Order  Weight  \\\n",
      "28    9/12/2022 19:36         Neck       3m     Neck Curl          1     3.0   \n",
      "29    9/12/2022 19:36         Neck       3m     Neck Curl          2     3.0   \n",
      "51   17/12/2022 20:38         Neck       4m     Neck Curl          1     3.0   \n",
      "52   17/12/2022 20:38         Neck       4m     Neck Curl          2     3.0   \n",
      "118  21/12/2022 21:52         Neck       2m     Neck Curl          1     3.5   \n",
      "119  21/12/2022 21:52         Neck       2m     Neck Curl          2     3.5   \n",
      "174  23/12/2022 21:15         Neck       7m     Neck Curl          1     3.5   \n",
      "175  23/12/2022 21:15         Neck       7m     Neck Curl          2     3.5   \n",
      "209  26/12/2022 21:45         Neck       5m     Neck Curl          1     3.5   \n",
      "210  26/12/2022 21:45         Neck       5m     Neck Curl          2     3.5   \n",
      "235  28/12/2022 21:50         Neck       4m     Neck Curl          1     3.5   \n",
      "236  28/12/2022 21:50         Neck       4m     Neck Curl          2     3.5   \n",
      "258    1/1/2023 21:49         Neck       8m     Neck Curl          1     4.0   \n",
      "259    1/1/2023 21:49         Neck       8m     Neck Curl          2     4.0   \n",
      "295    4/1/2023 19:09         Neck      16s     Neck Curl          1     3.5   \n",
      "296    4/1/2023 19:09         Neck      16s     Neck Curl          2     3.5   \n",
      "329    6/1/2023 19:26         Neck      20m     Neck Curl          1     4.0   \n",
      "330    6/1/2023 19:26         Neck      20m     Neck Curl          2     4.0   \n",
      "365    8/1/2023 21:18         Neck       4m     Neck Curl          1     4.0   \n",
      "366    8/1/2023 21:18         Neck       4m     Neck Curl          2     4.0   \n",
      "407   14/1/2023 21:50         Neck       5s     Neck Curl          1     3.5   \n",
      "477    14/2/2023 0:44         Neck      10s     Neck Curl          1     5.0   \n",
      "478    14/2/2023 0:44         Neck      10s     Neck Curl          2     5.0   \n",
      "479    14/2/2023 0:44         Neck      10s     Neck Curl          3     5.0   \n",
      "\n",
      "     Reps  Distance  Seconds  Notes  Workout Notes  RPE  \n",
      "28      8         0        0    NaN            NaN  NaN  \n",
      "29      8         0        0    NaN            NaN  NaN  \n",
      "51     18         0        0    NaN            NaN  NaN  \n",
      "52     12         0        0    NaN            NaN  NaN  \n",
      "118    20         0        0    NaN            NaN  NaN  \n",
      "119    13         0        0    NaN            NaN  NaN  \n",
      "174    20         0        0    NaN            NaN  NaN  \n",
      "175    20         0        0    NaN            NaN  NaN  \n",
      "209    25         0        0    NaN            NaN  NaN  \n",
      "210    20         0        0    NaN            NaN  NaN  \n",
      "235    30         0        0    NaN            NaN  NaN  \n",
      "236    21         0        0    NaN            NaN  NaN  \n",
      "258    26         0        0    NaN            NaN  NaN  \n",
      "259    20         0        0    NaN            NaN  NaN  \n",
      "295    25         0        0    NaN            NaN  NaN  \n",
      "296    20         0        0    NaN            NaN  NaN  \n",
      "329    25         0        0    NaN            NaN  NaN  \n",
      "330    20         0        0    NaN            NaN  NaN  \n",
      "365    30         0        0    NaN            NaN  NaN  \n",
      "366    25         0        0    NaN            NaN  NaN  \n",
      "407    30         0        0    NaN            NaN  NaN  \n",
      "477    20         0        0    NaN            NaN  NaN  \n",
      "478    20         0        0    NaN            NaN  NaN  \n",
      "479    15         0        0    NaN            NaN  NaN  \n"
     ]
    }
   ],
   "source": [
    "print(neck_curls)"
   ]
  }
 ],
 "metadata": {
  "kernelspec": {
   "display_name": "Python 3",
   "language": "python",
   "name": "python3"
  },
  "language_info": {
   "codemirror_mode": {
    "name": "ipython",
    "version": 3
   },
   "file_extension": ".py",
   "mimetype": "text/x-python",
   "name": "python",
   "nbconvert_exporter": "python",
   "pygments_lexer": "ipython3",
   "version": "3.8.10"
  },
  "orig_nbformat": 4,
  "vscode": {
   "interpreter": {
    "hash": "93d4b7476c4f942cdd867268d25bc66de9fbb077d65cca44d4f44c2402bcbc06"
   }
  }
 },
 "nbformat": 4,
 "nbformat_minor": 2
}
